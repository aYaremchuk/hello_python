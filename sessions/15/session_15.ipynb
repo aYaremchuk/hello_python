{
 "cells": [
  {
   "cell_type": "markdown",
   "metadata": {},
   "source": [
    "- Basic structure types \n",
    "    - Mapping Types — [dict](https://docs.python.org/3/library/stdtypes.html#mapping-types-dict)\n",
    "    - [tutorial](https://docs.python.org/3/tutorial/datastructures.html)"
   ]
  },
  {
   "cell_type": "markdown",
   "metadata": {},
   "source": [
    "Mapping Types — [dict](https://docs.python.org/3/library/stdtypes.html#mapping-types-dict)\n"
   ]
  },
  {
   "cell_type": "code",
   "execution_count": null,
   "metadata": {},
   "outputs": [],
   "source": []
  },
  {
   "cell_type": "markdown",
   "metadata": {},
   "source": [
    "Comprehension Rules:\n",
    "\n",
    "- {} means dict or set\n",
    "- use ':' separator for dict\n",
    "- [] means list\n",
    "- () means generator\n",
    "- filter with 'if'\n",
    "- map within loop iterations"
   ]
  },
  {
   "cell_type": "code",
   "execution_count": 2,
   "metadata": {},
   "outputs": [],
   "source": [
    "l = [i for i in range(12)]\n",
    "d = {i:i for i in range(12)}\n",
    "s = {i for i in range(12)}\n",
    "g = (sqrt(i) for i in range(12))"
   ]
  },
  {
   "cell_type": "code",
   "execution_count": 3,
   "metadata": {},
   "outputs": [
    {
     "data": {
      "text/plain": [
       "generator"
      ]
     },
     "execution_count": 3,
     "metadata": {},
     "output_type": "execute_result"
    }
   ],
   "source": [
    "# what about tuples?\n",
    "type(g)"
   ]
  },
  {
   "cell_type": "code",
   "execution_count": null,
   "metadata": {},
   "outputs": [],
   "source": [
    "# add filters"
   ]
  },
  {
   "cell_type": "markdown",
   "metadata": {},
   "source": [
    "- [tutorial](https://docs.python.org/3/tutorial/datastructures.html)"
   ]
  },
  {
   "cell_type": "code",
   "execution_count": null,
   "metadata": {},
   "outputs": [],
   "source": []
  },
  {
   "cell_type": "markdown",
   "metadata": {},
   "source": [
    "- Container datatypes [collections](https://docs.python.org/3/library/collections.html)\n",
    "    - defaultdict(int)\n",
    "    - deque\n",
    "    - ChainMap\n",
    "    - Named Tuple\n",
    "    - OrderedDict \n",
    "        - [not redundant even after 3.7](https://stackoverflow.com/questions/50872498/will-ordereddict-become-redundant-in-python-3-7)\n",
    "    - Counter\n"
   ]
  },
  {
   "cell_type": "code",
   "execution_count": null,
   "metadata": {},
   "outputs": [],
   "source": []
  },
  {
   "cell_type": "markdown",
   "metadata": {},
   "source": [
    "- deque\n"
   ]
  },
  {
   "cell_type": "code",
   "execution_count": null,
   "metadata": {},
   "outputs": [],
   "source": []
  },
  {
   "cell_type": "markdown",
   "metadata": {},
   "source": [
    "- ChainMap\n"
   ]
  },
  {
   "cell_type": "code",
   "execution_count": null,
   "metadata": {},
   "outputs": [],
   "source": []
  },
  {
   "cell_type": "markdown",
   "metadata": {},
   "source": [
    "- OrderedDict \n",
    "    - [not redundant even after 3.7](https://stackoverflow.com/questions/50872498/will-ordereddict-become-redundant-in-python-3-7)\n"
   ]
  },
  {
   "cell_type": "code",
   "execution_count": null,
   "metadata": {},
   "outputs": [],
   "source": []
  },
  {
   "cell_type": "markdown",
   "metadata": {},
   "source": [
    "- Counter\n"
   ]
  },
  {
   "cell_type": "code",
   "execution_count": null,
   "metadata": {},
   "outputs": [],
   "source": []
  },
  {
   "cell_type": "markdown",
   "metadata": {},
   "source": [
    "- in core library:\n",
    "    - [heapq](https://docs.python.org/3.0/library/heapq.html)\n",
    "    - [bisect](https://docs.python.org/3.0/library/bisect.html)\n",
    "    - [array](https://docs.python.org/3.0/library/array.html)\n",
    "    - [queue](https://docs.python.org/3.0/library/queue.html)\n",
    "    - [dataclasses](https://docs.python.org/3/library/dataclasses.html)\n",
    "- External\n",
    "    - [expiringdict](https://github.com/mailgun/expiringdict)\n",
    "    - io.StringIO\n",
    "    - ... what also?"
   ]
  },
  {
   "cell_type": "code",
   "execution_count": null,
   "metadata": {},
   "outputs": [],
   "source": []
  },
  {
   "cell_type": "markdown",
   "metadata": {},
   "source": []
  },
  {
   "cell_type": "code",
   "execution_count": null,
   "metadata": {},
   "outputs": [],
   "source": []
  },
  {
   "cell_type": "markdown",
   "metadata": {},
   "source": []
  },
  {
   "cell_type": "code",
   "execution_count": null,
   "metadata": {},
   "outputs": [],
   "source": []
  },
  {
   "cell_type": "markdown",
   "metadata": {},
   "source": []
  },
  {
   "cell_type": "code",
   "execution_count": null,
   "metadata": {},
   "outputs": [],
   "source": []
  },
  {
   "cell_type": "markdown",
   "metadata": {},
   "source": []
  },
  {
   "cell_type": "code",
   "execution_count": null,
   "metadata": {},
   "outputs": [],
   "source": []
  }
 ],
 "metadata": {
  "kernelspec": {
   "display_name": "Python 3",
   "language": "python",
   "name": "python3"
  },
  "language_info": {
   "codemirror_mode": {
    "name": "ipython",
    "version": 3
   },
   "file_extension": ".py",
   "mimetype": "text/x-python",
   "name": "python",
   "nbconvert_exporter": "python",
   "pygments_lexer": "ipython3",
   "version": "3.6.7"
  }
 },
 "nbformat": 4,
 "nbformat_minor": 2
}
