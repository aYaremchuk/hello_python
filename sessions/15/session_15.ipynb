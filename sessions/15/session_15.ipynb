{
 "cells": [
  {
   "cell_type": "markdown",
   "metadata": {},
   "source": [
    "- Basic structure types \n",
    "    - Mapping Types — [dict](https://docs.python.org/3/library/stdtypes.html#mapping-types-dict)\n",
    "    - [tutorial](https://docs.python.org/3/tutorial/datastructures.html)"
   ]
  },
  {
   "cell_type": "markdown",
   "metadata": {},
   "source": [
    "Mapping Types — [dict](https://docs.python.org/3/library/stdtypes.html#mapping-types-dict)\n"
   ]
  },
  {
   "cell_type": "code",
   "execution_count": 23,
   "metadata": {},
   "outputs": [
    {
     "data": {
      "text/plain": [
       "{1: True, 2: True}"
      ]
     },
     "execution_count": 23,
     "metadata": {},
     "output_type": "execute_result"
    }
   ],
   "source": [
    "d = dict(((1, 2), (1, 3)))\n",
    "d = {('some', 1, True): 2, 2: 3}\n",
    "d = dict(p1=2, p2=3)\n",
    "\n",
    "class M:\n",
    "    def keys(self):\n",
    "        return [1,2,3]\n",
    "    def __getitem__(self, x):\n",
    "        return 1\n",
    "\n",
    "m = M()\n",
    "d = dict(m)\n",
    "d = dict(zip((1,2), (True, True, False)))\n",
    "d"
   ]
  },
  {
   "cell_type": "code",
   "execution_count": 38,
   "metadata": {},
   "outputs": [
    {
     "data": {
      "text/plain": [
       "0"
      ]
     },
     "execution_count": 38,
     "metadata": {},
     "output_type": "execute_result"
    }
   ],
   "source": [
    "class DefaultDict(dict):\n",
    "    def __missing__(self, name):\n",
    "        return 0\n",
    "\n",
    "d = DefaultDict()\n",
    "d[1] = 2\n",
    "d[4]"
   ]
  },
  {
   "cell_type": "code",
   "execution_count": 49,
   "metadata": {},
   "outputs": [
    {
     "data": {
      "text/plain": [
       "'139862389144528 139862389142944'"
      ]
     },
     "execution_count": 49,
     "metadata": {},
     "output_type": "execute_result"
    }
   ],
   "source": [
    "d = {1:2, 3:4}\n",
    "3 in d\n",
    "next(iter(d.values()))\n",
    "\n",
    "d1 = dict(d)\n",
    "id(d1) == id(d)\n",
    "f'{id(d1)} {id(d)}'\n"
   ]
  },
  {
   "cell_type": "code",
   "execution_count": 54,
   "metadata": {},
   "outputs": [],
   "source": [
    "d = {1:2, 3:4}\n",
    "\n",
    "d1 = {5:6, 3:5}\n",
    "d.update(d1)\n"
   ]
  },
  {
   "cell_type": "markdown",
   "metadata": {},
   "source": [
    "Comprehension Rules:\n",
    "\n",
    "- {} means dict or set\n",
    "- use ':' separator for dict\n",
    "- [] means list\n",
    "- () means generator\n",
    "- filter with 'if'\n",
    "- map within loop iterations"
   ]
  },
  {
   "cell_type": "code",
   "execution_count": 68,
   "metadata": {},
   "outputs": [],
   "source": [
    "l = [i for i in range(12)]\n",
    "d = {i:i for i in range(12)}\n",
    "s = {i for i in range(12)}\n",
    "g = (i**2 for i in range(12))\n"
   ]
  },
  {
   "cell_type": "code",
   "execution_count": 69,
   "metadata": {},
   "outputs": [
    {
     "data": {
      "text/plain": [
       "(0, 1, 4, 9, 16, 25, 36, 49, 64, 81, 100, 121)"
      ]
     },
     "execution_count": 69,
     "metadata": {},
     "output_type": "execute_result"
    }
   ],
   "source": [
    "# what about tuples?\n",
    "type(g)\n",
    "tuple(g)"
   ]
  },
  {
   "cell_type": "code",
   "execution_count": 70,
   "metadata": {},
   "outputs": [
    {
     "data": {
      "text/plain": [
       "[0, 2, 4, 6, 8, 10]"
      ]
     },
     "execution_count": 70,
     "metadata": {},
     "output_type": "execute_result"
    }
   ],
   "source": [
    "# add filters\n",
    "l = [i for i in range(12) if i % 2 == 0]\n",
    "d = {i:i for i in range(12)}\n",
    "s = {i for i in range(12)}\n",
    "g = (i**2 for i in range(12))\n",
    "l"
   ]
  },
  {
   "cell_type": "markdown",
   "metadata": {},
   "source": [
    "Note!\n",
    "\n",
    "It also possible to have multiple _for_ in comprehensions:"
   ]
  },
  {
   "cell_type": "code",
   "execution_count": 6,
   "metadata": {},
   "outputs": [
    {
     "data": {
      "text/plain": [
       "[(0, 3), (0, 4), (1, 3), (1, 4)]"
      ]
     },
     "execution_count": 6,
     "metadata": {},
     "output_type": "execute_result"
    }
   ],
   "source": [
    "[ (i,j) for i in range(2) for j in range(3, 5) ]"
   ]
  },
  {
   "cell_type": "markdown",
   "metadata": {},
   "source": [
    "Let's create zero-filled matrix 5x3:"
   ]
  },
  {
   "cell_type": "code",
   "execution_count": 9,
   "metadata": {
    "scrolled": true
   },
   "outputs": [
    {
     "data": {
      "text/plain": [
       "[[0, 0, 0], [0, 0, 0], [0, 0, 0], [0, 0, 0], [0, 0, 0]]"
      ]
     },
     "execution_count": 9,
     "metadata": {},
     "output_type": "execute_result"
    }
   ],
   "source": [
    "[[0]*3 for i in range(5)]"
   ]
  },
  {
   "cell_type": "markdown",
   "metadata": {},
   "source": [
    "- [tutorial](https://docs.python.org/3/tutorial/datastructures.html)"
   ]
  },
  {
   "cell_type": "code",
   "execution_count": 5,
   "metadata": {},
   "outputs": [
    {
     "name": "stdout",
     "output_type": "stream",
     "text": [
      "[{1: True, 2: 'name3', 3: 1}, {1: False, 2: 'name2', 3: 4}, {1: True, 2: 'name1', 3: 5}]\n",
      "[{1: True, 2: 'name1', 3: 5}, {1: False, 2: 'name2', 3: 4}, {1: True, 2: 'name3', 3: 1}]\n"
     ]
    }
   ],
   "source": [
    "l = [\n",
    "    {1: True, 2: 'name3', 3: 1},\n",
    "    {1: True, 2: 'name1', 3: 5},\n",
    "    {1: False, 2: 'name2', 3: 4},\n",
    "]\n",
    "l2 = sorted(l, key=lambda x: x[2])\n",
    "l.sort(key=lambda x: x[3])\n",
    "print(l)\n",
    "print(l2)"
   ]
  },
  {
   "cell_type": "markdown",
   "metadata": {},
   "source": [
    "- Container datatypes [collections](https://docs.python.org/3/library/collections.html)\n",
    "    - defaultdict(int)\n",
    "    - deque\n",
    "    - ChainMap\n",
    "    - Named Tuple\n",
    "    - OrderedDict \n",
    "        - [not redundant even after 3.7](https://stackoverflow.com/questions/50872498/will-ordereddict-become-redundant-in-python-3-7)\n",
    "    - Counter\n"
   ]
  },
  {
   "cell_type": "code",
   "execution_count": null,
   "metadata": {},
   "outputs": [],
   "source": []
  },
  {
   "cell_type": "markdown",
   "metadata": {},
   "source": [
    "- deque\n"
   ]
  },
  {
   "cell_type": "code",
   "execution_count": null,
   "metadata": {},
   "outputs": [],
   "source": []
  },
  {
   "cell_type": "markdown",
   "metadata": {},
   "source": [
    "- ChainMap\n"
   ]
  },
  {
   "cell_type": "code",
   "execution_count": null,
   "metadata": {},
   "outputs": [],
   "source": []
  },
  {
   "cell_type": "markdown",
   "metadata": {},
   "source": [
    "- OrderedDict \n",
    "    - [not redundant even after 3.7](https://stackoverflow.com/questions/50872498/will-ordereddict-become-redundant-in-python-3-7)\n"
   ]
  },
  {
   "cell_type": "code",
   "execution_count": null,
   "metadata": {},
   "outputs": [],
   "source": []
  },
  {
   "cell_type": "markdown",
   "metadata": {},
   "source": [
    "- Counter\n"
   ]
  },
  {
   "cell_type": "code",
   "execution_count": null,
   "metadata": {},
   "outputs": [],
   "source": []
  },
  {
   "cell_type": "markdown",
   "metadata": {},
   "source": [
    "- in core library:\n",
    "    - [heapq](https://docs.python.org/3.0/library/heapq.html)\n",
    "    - [bisect](https://docs.python.org/3.0/library/bisect.html)\n",
    "    - [array](https://docs.python.org/3.0/library/array.html)\n",
    "    - [queue](https://docs.python.org/3.0/library/queue.html)\n",
    "    - [dataclasses](https://docs.python.org/3/library/dataclasses.html)\n",
    "- External\n",
    "    - [expiringdict](https://github.com/mailgun/expiringdict)\n",
    "    - io.StringIO\n",
    "    - ... what also?"
   ]
  },
  {
   "cell_type": "code",
   "execution_count": null,
   "metadata": {},
   "outputs": [],
   "source": []
  },
  {
   "cell_type": "markdown",
   "metadata": {},
   "source": []
  },
  {
   "cell_type": "code",
   "execution_count": null,
   "metadata": {},
   "outputs": [],
   "source": []
  },
  {
   "cell_type": "markdown",
   "metadata": {},
   "source": []
  },
  {
   "cell_type": "code",
   "execution_count": null,
   "metadata": {},
   "outputs": [],
   "source": []
  },
  {
   "cell_type": "markdown",
   "metadata": {},
   "source": []
  },
  {
   "cell_type": "code",
   "execution_count": null,
   "metadata": {},
   "outputs": [],
   "source": []
  },
  {
   "cell_type": "markdown",
   "metadata": {},
   "source": []
  },
  {
   "cell_type": "code",
   "execution_count": null,
   "metadata": {},
   "outputs": [],
   "source": []
  }
 ],
 "metadata": {
  "kernelspec": {
   "display_name": "Python 3",
   "language": "python",
   "name": "python3"
  },
  "language_info": {
   "codemirror_mode": {
    "name": "ipython",
    "version": 3
   },
   "file_extension": ".py",
   "mimetype": "text/x-python",
   "name": "python",
   "nbconvert_exporter": "python",
   "pygments_lexer": "ipython3",
   "version": "3.6.7"
  }
 },
 "nbformat": 4,
 "nbformat_minor": 2
}
